{
 "cells": [
  {
   "cell_type": "markdown",
   "metadata": {},
   "source": [
    "# This is the file for Julia tutorials"
   ]
  },
  {
   "cell_type": "markdown",
   "metadata": {},
   "source": []
  },
  {
   "cell_type": "code",
   "execution_count": 1,
   "metadata": {},
   "outputs": [
    {
     "name": "stdout",
     "output_type": "stream",
     "text": [
      "2 is greater than 1.\n"
     ]
    }
   ],
   "source": [
    "x = 2\n",
    "y = 1\n",
    "\n",
    "\n",
    "if x>y\n",
    "    println(\"$x is greater than $y.\")\n",
    "elseif x<y\n",
    "    println(\"$x is less than $y.\")\n",
    "else\n",
    "    println(\"$x is equal to $y.\")\n",
    "end"
   ]
  },
  {
   "cell_type": "markdown",
   "metadata": {},
   "source": [
    "Now we try more compactly commands in Julia.\n",
    "\n",
    "The trick is to use the structure ? to determine whether the statement is true or false. "
   ]
  },
  {
   "cell_type": "code",
   "execution_count": 3,
   "metadata": {},
   "outputs": [
    {
     "name": "stdout",
     "output_type": "stream",
     "text": [
      "2 is less or equal to 3.\n"
     ]
    }
   ],
   "source": [
    "x = 2\n",
    "y = 3\n",
    "\n",
    "x > y ? println(\"$x is greater than $y.\") : println(\"$x is less or equal to $y.\")"
   ]
  },
  {
   "cell_type": "markdown",
   "metadata": {},
   "source": [
    "Let us try the while loop. "
   ]
  },
  {
   "cell_type": "code",
   "execution_count": 7,
   "metadata": {},
   "outputs": [
    {
     "name": "stdout",
     "output_type": "stream",
     "text": [
      "1\n",
      "2\n",
      "3\n",
      "4\n",
      "5\n",
      "6\n",
      "7\n",
      "8\n",
      "9\n",
      "10\n"
     ]
    }
   ],
   "source": [
    "i = 1\n",
    "\n",
    "while i <= 10\n",
    "    println(i)\n",
    "    i +=1\n",
    "end"
   ]
  },
  {
   "cell_type": "markdown",
   "metadata": {},
   "source": []
  },
  {
   "cell_type": "code",
   "execution_count": 1,
   "metadata": {},
   "outputs": [
    {
     "name": "stdout",
     "output_type": "stream",
     "text": [
      "1\n",
      "2\n",
      "3\n",
      "4\n",
      "5\n"
     ]
    }
   ],
   "source": [
    "i = 1\n",
    "while true\n",
    "    println(i)\n",
    "    if i >=5\n",
    "        break\n",
    "    end\n",
    "    i += 1\n",
    "end"
   ]
  },
  {
   "cell_type": "markdown",
   "metadata": {},
   "source": [
    "Now let us move to for loop.        "
   ]
  },
  {
   "cell_type": "code",
   "execution_count": 2,
   "metadata": {},
   "outputs": [
    {
     "name": "stdout",
     "output_type": "stream",
     "text": [
      "1\n",
      "2\n",
      "3\n",
      "4\n",
      "5\n",
      "6\n",
      "7\n",
      "8\n",
      "9\n",
      "10\n"
     ]
    }
   ],
   "source": [
    "for i in 1:10\n",
    "    println(i)\n",
    "end"
   ]
  },
  {
   "cell_type": "markdown",
   "metadata": {},
   "source": []
  },
  {
   "cell_type": "code",
   "execution_count": 3,
   "metadata": {},
   "outputs": [
    {
     "name": "stdout",
     "output_type": "stream",
     "text": [
      "5\n",
      "7\n",
      "9\n",
      "11\n"
     ]
    }
   ],
   "source": [
    "for i in 5:2:11\n",
    "    println(i)\n",
    "end"
   ]
  },
  {
   "cell_type": "code",
   "execution_count": 6,
   "metadata": {},
   "outputs": [
    {
     "name": "stdout",
     "output_type": "stream",
     "text": [
      "20\n",
      "15\n",
      "10\n",
      "5\n"
     ]
    }
   ],
   "source": [
    "for i in 20:-5:1\n",
    "    println(i)\n",
    "end"
   ]
  },
  {
   "cell_type": "code",
   "execution_count": 8,
   "metadata": {},
   "outputs": [
    {
     "name": "stdout",
     "output_type": "stream",
     "text": [
      "α\n",
      "β\n",
      "γ\n",
      "δ\n",
      "ε\n",
      "ζ\n",
      "η\n",
      "θ\n",
      "ι\n",
      "κ\n",
      "λ\n",
      "μ\n",
      "ν\n",
      "ξ\n",
      "ο\n",
      "π\n",
      "ρ\n",
      "ς\n",
      "σ\n",
      "τ\n",
      "υ\n",
      "φ\n",
      "χ\n",
      "ψ\n",
      "ω\n"
     ]
    }
   ],
   "source": [
    "for greekletters in 'α':'ω'\n",
    "    println(greekletters)\n",
    "end"
   ]
  },
  {
   "cell_type": "code",
   "execution_count": 9,
   "metadata": {},
   "outputs": [
    {
     "data": {
      "text/plain": [
       "Dict{String, Any} with 3 entries:\n",
       "  \"B\" => π\n",
       "  \"A\" => 1\n",
       "  \"C\" => \"doggo\""
      ]
     },
     "metadata": {},
     "output_type": "display_data"
    }
   ],
   "source": [
    "d1 = Dict(\"A\"=>1,\"B\"=>π,\"C\"=>\"doggo\")"
   ]
  },
  {
   "cell_type": "code",
   "execution_count": 10,
   "metadata": {},
   "outputs": [
    {
     "name": "stdout",
     "output_type": "stream",
     "text": [
      "key = B\t value = π.\n",
      "key = A\t value = 1.\n",
      "key = C\t value = doggo.\n"
     ]
    }
   ],
   "source": [
    "for (key,value) in d1\n",
    "    println(\"key = $key\\t value = $value.\")\n",
    "end"
   ]
  },
  {
   "cell_type": "code",
   "execution_count": 11,
   "metadata": {},
   "outputs": [
    {
     "data": {
      "text/plain": [
       "10-element Vector{Any}:\n",
       "  1\n",
       "  2\n",
       "  3\n",
       "  4\n",
       "  5\n",
       "  6\n",
       "  7\n",
       "  8\n",
       "  9\n",
       " 10"
      ]
     },
     "metadata": {},
     "output_type": "display_data"
    }
   ],
   "source": [
    "a2 = []\n",
    "for i in 1:10\n",
    "    push!(a2,i)\n",
    "end\n",
    "\n",
    "a2"
   ]
  },
  {
   "cell_type": "markdown",
   "metadata": {},
   "source": [
    "Here is the illustration how to manipulate inner and outer loops."
   ]
  },
  {
   "cell_type": "code",
   "execution_count": 12,
   "metadata": {},
   "outputs": [
    {
     "data": {
      "text/plain": [
       "5×5 Matrix{Int64}:\n",
       " 0  0  0  0  0\n",
       " 0  0  0  0  0\n",
       " 0  0  0  0  0\n",
       " 0  0  0  0  0\n",
       " 0  0  0  0  0"
      ]
     },
     "metadata": {},
     "output_type": "display_data"
    }
   ],
   "source": [
    "x,y = 5,5\n",
    "A = fill(0,(x,y))"
   ]
  },
  {
   "cell_type": "code",
   "execution_count": 13,
   "metadata": {},
   "outputs": [],
   "source": [
    "for i in 1:x\n",
    "    for j in 1:y\n",
    "        A[i,j] = i+j\n",
    "    end\n",
    "end"
   ]
  },
  {
   "cell_type": "markdown",
   "metadata": {},
   "source": [
    "In the above coding, j controls inner loop, in this case, from 1 to 5, and i controls outer loop, from 1 to 5 as well. "
   ]
  },
  {
   "cell_type": "code",
   "execution_count": 14,
   "metadata": {},
   "outputs": [
    {
     "data": {
      "text/plain": [
       "5×5 Matrix{Int64}:\n",
       " 2  3  4  5   6\n",
       " 3  4  5  6   7\n",
       " 4  5  6  7   8\n",
       " 5  6  7  8   9\n",
       " 6  7  8  9  10"
      ]
     },
     "metadata": {},
     "output_type": "display_data"
    }
   ],
   "source": [
    "A"
   ]
  },
  {
   "cell_type": "markdown",
   "metadata": {},
   "source": [
    "In computer science, we could also do **syntactic sugar**, which means syntax is designed to make things easier to read or to express. It makes the language \"sweeter\" for human use. "
   ]
  },
  {
   "cell_type": "code",
   "execution_count": 15,
   "metadata": {},
   "outputs": [
    {
     "data": {
      "text/plain": [
       "6×6 Matrix{Int64}:\n",
       " 2  3  4   5   6   7\n",
       " 3  4  5   6   7   8\n",
       " 4  5  6   7   8   9\n",
       " 5  6  7   8   9  10\n",
       " 6  7  8   9  10  11\n",
       " 7  8  9  10  11  12"
      ]
     },
     "metadata": {},
     "output_type": "display_data"
    }
   ],
   "source": [
    "x,y = 6,6\n",
    "B = fill(0,(x,y))\n",
    "\n",
    "for i in 1:x, j in 1:y\n",
    "    B[i,j] = i + j\n",
    "end\n",
    "\n",
    "B "
   ]
  },
  {
   "cell_type": "markdown",
   "metadata": {},
   "source": [
    "## Here is how to create functions in Julia  "
   ]
  },
  {
   "cell_type": "code",
   "execution_count": 1,
   "metadata": {},
   "outputs": [
    {
     "data": {
      "text/plain": [
       "f (generic function with 1 method)"
      ]
     },
     "metadata": {},
     "output_type": "display_data"
    }
   ],
   "source": [
    "function f(x,y)\n",
    "    x+y\n",
    "end"
   ]
  },
  {
   "cell_type": "code",
   "execution_count": 2,
   "metadata": {},
   "outputs": [
    {
     "data": {
      "text/plain": [
       "9"
      ]
     },
     "metadata": {},
     "output_type": "display_data"
    }
   ],
   "source": [
    "x,y = 4,5\n",
    "f(x,y)"
   ]
  },
  {
   "cell_type": "code",
   "execution_count": 3,
   "metadata": {},
   "outputs": [
    {
     "data": {
      "text/plain": [
       "g (generic function with 1 method)"
      ]
     },
     "metadata": {},
     "output_type": "display_data"
    }
   ],
   "source": [
    "# compactly function form\n",
    "g(x,y) = x + y"
   ]
  },
  {
   "cell_type": "code",
   "execution_count": 4,
   "metadata": {},
   "outputs": [
    {
     "data": {
      "text/plain": [
       "9"
      ]
     },
     "metadata": {},
     "output_type": "display_data"
    }
   ],
   "source": [
    "g(x,y)"
   ]
  },
  {
   "cell_type": "markdown",
   "metadata": {},
   "source": [
    "### function with control flows"
   ]
  },
  {
   "cell_type": "code",
   "execution_count": 6,
   "metadata": {},
   "outputs": [
    {
     "data": {
      "text/plain": [
       "myconditional (generic function with 1 method)"
      ]
     },
     "metadata": {},
     "output_type": "display_data"
    }
   ],
   "source": [
    "function myconditional(x,y)\n",
    "    if x > y \n",
    "        println(\"$x ≥ $y.\")\n",
    "    elseif x < y\n",
    "        println(\"$x ≤ $y.\")\n",
    "    else\n",
    "        println(\"$x = $y.\")\n",
    "    end\n",
    "end"
   ]
  },
  {
   "cell_type": "code",
   "execution_count": 7,
   "metadata": {},
   "outputs": [
    {
     "name": "stdout",
     "output_type": "stream",
     "text": [
      "3 ≥ 2.\n"
     ]
    }
   ],
   "source": [
    "myconditional(3,2)"
   ]
  },
  {
   "cell_type": "code",
   "execution_count": 8,
   "metadata": {},
   "outputs": [
    {
     "name": "stdout",
     "output_type": "stream",
     "text": [
      "π ≥ 3.1415926."
     ]
    },
    {
     "name": "stdout",
     "output_type": "stream",
     "text": [
      "\n"
     ]
    }
   ],
   "source": [
    "myconditional(π,3.1415926)"
   ]
  },
  {
   "cell_type": "markdown",
   "metadata": {},
   "source": [
    "# DataFrames with Julia"
   ]
  },
  {
   "cell_type": "code",
   "execution_count": 13,
   "metadata": {},
   "outputs": [],
   "source": [
    "using DataFrames,CSV"
   ]
  },
  {
   "cell_type": "code",
   "execution_count": 2,
   "metadata": {},
   "outputs": [],
   "source": [
    "brand = [\"Company A\",\"Company B\",\"Company C\"];\n",
    "tier = [\"Premium\",\"Economy\",\"Standard\"];\n",
    "quantity = [10,100,50];\n",
    "price = [100,10,50];\n",
    "cost = [30,7,25];"
   ]
  },
  {
   "cell_type": "markdown",
   "metadata": {},
   "source": [
    "Step 1: create a Data Frame to contain those basic information"
   ]
  },
  {
   "cell_type": "code",
   "execution_count": 3,
   "metadata": {},
   "outputs": [
    {
     "data": {
      "text/html": [
       "<div class=\"data-frame\"><p>3 rows × 5 columns</p><table class=\"data-frame\"><thead><tr><th></th><th>Brand</th><th>Tier</th><th>Quantity</th><th>Price</th><th>Cost</th></tr><tr><th></th><th title=\"String\">String</th><th title=\"String\">String</th><th title=\"Int64\">Int64</th><th title=\"Int64\">Int64</th><th title=\"Int64\">Int64</th></tr></thead><tbody><tr><th>1</th><td>Company A</td><td>Premium</td><td>10</td><td>100</td><td>30</td></tr><tr><th>2</th><td>Company B</td><td>Economy</td><td>100</td><td>10</td><td>7</td></tr><tr><th>3</th><td>Company C</td><td>Standard</td><td>50</td><td>50</td><td>25</td></tr></tbody></table></div>"
      ],
      "text/latex": [
       "\\begin{tabular}{r|ccccc}\n",
       "\t& Brand & Tier & Quantity & Price & Cost\\\\\n",
       "\t\\hline\n",
       "\t& String & String & Int64 & Int64 & Int64\\\\\n",
       "\t\\hline\n",
       "\t1 & Company A & Premium & 10 & 100 & 30 \\\\\n",
       "\t2 & Company B & Economy & 100 & 10 & 7 \\\\\n",
       "\t3 & Company C & Standard & 50 & 50 & 25 \\\\\n",
       "\\end{tabular}\n"
      ],
      "text/plain": [
       "\u001b[1m3×5 DataFrame\u001b[0m\n",
       "\u001b[1m Row \u001b[0m│\u001b[1m Brand     \u001b[0m\u001b[1m Tier     \u001b[0m\u001b[1m Quantity \u001b[0m\u001b[1m Price \u001b[0m\u001b[1m Cost  \u001b[0m\n",
       "\u001b[1m     \u001b[0m│\u001b[90m String    \u001b[0m\u001b[90m String   \u001b[0m\u001b[90m Int64    \u001b[0m\u001b[90m Int64 \u001b[0m\u001b[90m Int64 \u001b[0m\n",
       "─────┼─────────────────────────────────────────────\n",
       "   1 │ Company A  Premium         10    100     30\n",
       "   2 │ Company B  Economy        100     10      7\n",
       "   3 │ Company C  Standard        50     50     25"
      ]
     },
     "metadata": {},
     "output_type": "display_data"
    }
   ],
   "source": [
    "df = DataFrame(\n",
    "    Brand = brand,\n",
    "    Tier = tier,\n",
    "    Quantity = quantity,\n",
    "    Price = price,\n",
    "    Cost = cost,\n",
    ")"
   ]
  },
  {
   "cell_type": "markdown",
   "metadata": {},
   "source": [
    "Step 2: calculate revenue, profit, and margin "
   ]
  },
  {
   "cell_type": "code",
   "execution_count": 5,
   "metadata": {},
   "outputs": [],
   "source": [
    "df.Revenue = df.Quantity.*df.Price;"
   ]
  },
  {
   "cell_type": "code",
   "execution_count": 6,
   "metadata": {},
   "outputs": [],
   "source": [
    "df.Profit = df.Revenue .- df.Cost;"
   ]
  },
  {
   "cell_type": "code",
   "execution_count": 8,
   "metadata": {},
   "outputs": [],
   "source": [
    "df.Margin = df.Profit./df.Revenue;"
   ]
  },
  {
   "cell_type": "code",
   "execution_count": 9,
   "metadata": {},
   "outputs": [
    {
     "data": {
      "text/html": [
       "<div class=\"data-frame\"><p>3 rows × 8 columns</p><table class=\"data-frame\"><thead><tr><th></th><th>Brand</th><th>Tier</th><th>Quantity</th><th>Price</th><th>Cost</th><th>Revenue</th><th>Profit</th><th>Margin</th></tr><tr><th></th><th title=\"String\">String</th><th title=\"String\">String</th><th title=\"Int64\">Int64</th><th title=\"Int64\">Int64</th><th title=\"Int64\">Int64</th><th title=\"Int64\">Int64</th><th title=\"Int64\">Int64</th><th title=\"Float64\">Float64</th></tr></thead><tbody><tr><th>1</th><td>Company A</td><td>Premium</td><td>10</td><td>100</td><td>30</td><td>1000</td><td>970</td><td>0.97</td></tr><tr><th>2</th><td>Company B</td><td>Economy</td><td>100</td><td>10</td><td>7</td><td>1000</td><td>993</td><td>0.993</td></tr><tr><th>3</th><td>Company C</td><td>Standard</td><td>50</td><td>50</td><td>25</td><td>2500</td><td>2475</td><td>0.99</td></tr></tbody></table></div>"
      ],
      "text/latex": [
       "\\begin{tabular}{r|cccccccc}\n",
       "\t& Brand & Tier & Quantity & Price & Cost & Revenue & Profit & Margin\\\\\n",
       "\t\\hline\n",
       "\t& String & String & Int64 & Int64 & Int64 & Int64 & Int64 & Float64\\\\\n",
       "\t\\hline\n",
       "\t1 & Company A & Premium & 10 & 100 & 30 & 1000 & 970 & 0.97 \\\\\n",
       "\t2 & Company B & Economy & 100 & 10 & 7 & 1000 & 993 & 0.993 \\\\\n",
       "\t3 & Company C & Standard & 50 & 50 & 25 & 2500 & 2475 & 0.99 \\\\\n",
       "\\end{tabular}\n"
      ],
      "text/plain": [
       "\u001b[1m3×8 DataFrame\u001b[0m\n",
       "\u001b[1m Row \u001b[0m│\u001b[1m Brand     \u001b[0m\u001b[1m Tier     \u001b[0m\u001b[1m Quantity \u001b[0m\u001b[1m Price \u001b[0m\u001b[1m Cost  \u001b[0m\u001b[1m Revenue \u001b[0m\u001b[1m Profit \u001b[0m\u001b[1m Margin  \u001b[0m\n",
       "\u001b[1m     \u001b[0m│\u001b[90m String    \u001b[0m\u001b[90m String   \u001b[0m\u001b[90m Int64    \u001b[0m\u001b[90m Int64 \u001b[0m\u001b[90m Int64 \u001b[0m\u001b[90m Int64   \u001b[0m\u001b[90m Int64  \u001b[0m\u001b[90m Float64 \u001b[0m\n",
       "─────┼───────────────────────────────────────────────────────────────────────\n",
       "   1 │ Company A  Premium         10    100     30     1000     970    0.97\n",
       "   2 │ Company B  Economy        100     10      7     1000     993    0.993\n",
       "   3 │ Company C  Standard        50     50     25     2500    2475    0.99"
      ]
     },
     "metadata": {},
     "output_type": "display_data"
    }
   ],
   "source": [
    "df"
   ]
  },
  {
   "cell_type": "markdown",
   "metadata": {},
   "source": [
    "Step 3: calculate total quantity, total revenue, total profit, and total margin"
   ]
  },
  {
   "cell_type": "code",
   "execution_count": 10,
   "metadata": {},
   "outputs": [
    {
     "data": {
      "text/plain": [
       "0.9862222222222222"
      ]
     },
     "metadata": {},
     "output_type": "display_data"
    }
   ],
   "source": [
    "dftotalquantity = sum(df.Quantity)\n",
    "\n",
    "dftotalrevenue = sum(df.Revenue)\n",
    "\n",
    "dftotalprofit = sum(df.Profit)\n",
    "\n",
    "dftotalmargin = dftotalprofit/dftotalrevenue"
   ]
  },
  {
   "cell_type": "code",
   "execution_count": 11,
   "metadata": {},
   "outputs": [
    {
     "data": {
      "text/html": [
       "<div class=\"data-frame\"><p>1 rows × 4 columns</p><table class=\"data-frame\"><thead><tr><th></th><th>Quantity</th><th>Revenue</th><th>Profit</th><th>Margin</th></tr><tr><th></th><th title=\"Int64\">Int64</th><th title=\"Int64\">Int64</th><th title=\"Int64\">Int64</th><th title=\"Float64\">Float64</th></tr></thead><tbody><tr><th>1</th><td>160</td><td>4500</td><td>4438</td><td>0.986222</td></tr></tbody></table></div>"
      ],
      "text/latex": [
       "\\begin{tabular}{r|cccc}\n",
       "\t& Quantity & Revenue & Profit & Margin\\\\\n",
       "\t\\hline\n",
       "\t& Int64 & Int64 & Int64 & Float64\\\\\n",
       "\t\\hline\n",
       "\t1 & 160 & 4500 & 4438 & 0.986222 \\\\\n",
       "\\end{tabular}\n"
      ],
      "text/plain": [
       "\u001b[1m1×4 DataFrame\u001b[0m\n",
       "\u001b[1m Row \u001b[0m│\u001b[1m Quantity \u001b[0m\u001b[1m Revenue \u001b[0m\u001b[1m Profit \u001b[0m\u001b[1m Margin   \u001b[0m\n",
       "\u001b[1m     \u001b[0m│\u001b[90m Int64    \u001b[0m\u001b[90m Int64   \u001b[0m\u001b[90m Int64  \u001b[0m\u001b[90m Float64  \u001b[0m\n",
       "─────┼─────────────────────────────────────\n",
       "   1 │      160     4500    4438  0.986222"
      ]
     },
     "metadata": {},
     "output_type": "display_data"
    }
   ],
   "source": [
    "dftotal = DataFrame(\n",
    "    Quantity = dftotalquantity,\n",
    "    Revenue = dftotalrevenue,\n",
    "    Profit = dftotalprofit,\n",
    "    Margin = dftotalmargin,\n",
    ")"
   ]
  },
  {
   "cell_type": "code",
   "execution_count": 14,
   "metadata": {},
   "outputs": [
    {
     "data": {
      "text/plain": [
       "\"mydf.csv\""
      ]
     },
     "metadata": {},
     "output_type": "display_data"
    }
   ],
   "source": [
    "CSV.write(\"mydf.csv\",df)"
   ]
  },
  {
   "cell_type": "code",
   "execution_count": 16,
   "metadata": {},
   "outputs": [
    {
     "data": {
      "text/html": [
       "<div class=\"data-frame\"><p>8 rows × 7 columns</p><table class=\"data-frame\"><thead><tr><th></th><th>variable</th><th>mean</th><th>min</th><th>median</th><th>max</th><th>nmissing</th><th>eltype</th></tr><tr><th></th><th title=\"Symbol\">Symbol</th><th title=\"Union{Nothing, Float64}\">Union…</th><th title=\"Any\">Any</th><th title=\"Union{Nothing, Float64}\">Union…</th><th title=\"Any\">Any</th><th title=\"Int64\">Int64</th><th title=\"DataType\">DataType</th></tr></thead><tbody><tr><th>1</th><td>Brand</td><td></td><td>Company A</td><td></td><td>Company C</td><td>0</td><td>String</td></tr><tr><th>2</th><td>Tier</td><td></td><td>Economy</td><td></td><td>Standard</td><td>0</td><td>String</td></tr><tr><th>3</th><td>Quantity</td><td>53.3333</td><td>10</td><td>50.0</td><td>100</td><td>0</td><td>Int64</td></tr><tr><th>4</th><td>Price</td><td>53.3333</td><td>10</td><td>50.0</td><td>100</td><td>0</td><td>Int64</td></tr><tr><th>5</th><td>Cost</td><td>20.6667</td><td>7</td><td>25.0</td><td>30</td><td>0</td><td>Int64</td></tr><tr><th>6</th><td>Revenue</td><td>1500.0</td><td>1000</td><td>1000.0</td><td>2500</td><td>0</td><td>Int64</td></tr><tr><th>7</th><td>Profit</td><td>1479.33</td><td>970</td><td>993.0</td><td>2475</td><td>0</td><td>Int64</td></tr><tr><th>8</th><td>Margin</td><td>0.984333</td><td>0.97</td><td>0.99</td><td>0.993</td><td>0</td><td>Float64</td></tr></tbody></table></div>"
      ],
      "text/latex": [
       "\\begin{tabular}{r|ccccccc}\n",
       "\t& variable & mean & min & median & max & nmissing & eltype\\\\\n",
       "\t\\hline\n",
       "\t& Symbol & Union… & Any & Union… & Any & Int64 & DataType\\\\\n",
       "\t\\hline\n",
       "\t1 & Brand &  & Company A &  & Company C & 0 & String \\\\\n",
       "\t2 & Tier &  & Economy &  & Standard & 0 & String \\\\\n",
       "\t3 & Quantity & 53.3333 & 10 & 50.0 & 100 & 0 & Int64 \\\\\n",
       "\t4 & Price & 53.3333 & 10 & 50.0 & 100 & 0 & Int64 \\\\\n",
       "\t5 & Cost & 20.6667 & 7 & 25.0 & 30 & 0 & Int64 \\\\\n",
       "\t6 & Revenue & 1500.0 & 1000 & 1000.0 & 2500 & 0 & Int64 \\\\\n",
       "\t7 & Profit & 1479.33 & 970 & 993.0 & 2475 & 0 & Int64 \\\\\n",
       "\t8 & Margin & 0.984333 & 0.97 & 0.99 & 0.993 & 0 & Float64 \\\\\n",
       "\\end{tabular}\n"
      ],
      "text/plain": [
       "\u001b[1m8×7 DataFrame\u001b[0m\n",
       "\u001b[1m Row \u001b[0m│\u001b[1m variable \u001b[0m\u001b[1m mean     \u001b[0m\u001b[1m min       \u001b[0m\u001b[1m median \u001b[0m\u001b[1m max       \u001b[0m\u001b[1m nmissing \u001b[0m\u001b[1m eltype   \u001b[0m\n",
       "\u001b[1m     \u001b[0m│\u001b[90m Symbol   \u001b[0m\u001b[90m Union…   \u001b[0m\u001b[90m Any       \u001b[0m\u001b[90m Union… \u001b[0m\u001b[90m Any       \u001b[0m\u001b[90m Int64    \u001b[0m\u001b[90m DataType \u001b[0m\n",
       "─────┼──────────────────────────────────────────────────────────────────────\n",
       "   1 │ Brand    \u001b[90m          \u001b[0m Company A \u001b[90m        \u001b[0m Company C         0  String\n",
       "   2 │ Tier     \u001b[90m          \u001b[0m Economy   \u001b[90m        \u001b[0m Standard          0  String\n",
       "   3 │ Quantity  53.3333   10         50.0    100               0  Int64\n",
       "   4 │ Price     53.3333   10         50.0    100               0  Int64\n",
       "   5 │ Cost      20.6667   7          25.0    30                0  Int64\n",
       "   6 │ Revenue   1500.0    1000       1000.0  2500              0  Int64\n",
       "   7 │ Profit    1479.33   970        993.0   2475              0  Int64\n",
       "   8 │ Margin    0.984333  0.97       0.99    0.993             0  Float64"
      ]
     },
     "metadata": {},
     "output_type": "display_data"
    }
   ],
   "source": [
    "describe(df)"
   ]
  },
  {
   "cell_type": "code",
   "execution_count": 17,
   "metadata": {},
   "outputs": [
    {
     "data": {
      "text/plain": [
       "3"
      ]
     },
     "metadata": {},
     "output_type": "display_data"
    }
   ],
   "source": [
    "nrow(df)"
   ]
  },
  {
   "cell_type": "code",
   "execution_count": 18,
   "metadata": {},
   "outputs": [
    {
     "data": {
      "text/plain": [
       "8"
      ]
     },
     "metadata": {},
     "output_type": "display_data"
    }
   ],
   "source": [
    "ncol(df)"
   ]
  },
  {
   "cell_type": "code",
   "execution_count": 19,
   "metadata": {},
   "outputs": [
    {
     "data": {
      "text/plain": [
       "(3, 8)"
      ]
     },
     "metadata": {},
     "output_type": "display_data"
    }
   ],
   "source": [
    "size(df)"
   ]
  },
  {
   "cell_type": "code",
   "execution_count": 20,
   "metadata": {},
   "outputs": [
    {
     "data": {
      "text/plain": [
       "8-element Vector{String}:\n",
       " \"Brand\"\n",
       " \"Tier\"\n",
       " \"Quantity\"\n",
       " \"Price\"\n",
       " \"Cost\"\n",
       " \"Revenue\"\n",
       " \"Profit\"\n",
       " \"Margin\""
      ]
     },
     "metadata": {},
     "output_type": "display_data"
    }
   ],
   "source": [
    "names(df)"
   ]
  },
  {
   "cell_type": "code",
   "execution_count": 21,
   "metadata": {},
   "outputs": [
    {
     "data": {
      "text/plain": [
       "8-element Vector{Symbol}:\n",
       " :Brand\n",
       " :Tier\n",
       " :Quantity\n",
       " :Price\n",
       " :Cost\n",
       " :Revenue\n",
       " :Profit\n",
       " :Margin"
      ]
     },
     "metadata": {},
     "output_type": "display_data"
    }
   ],
   "source": [
    "propertynames(df)"
   ]
  },
  {
   "cell_type": "code",
   "execution_count": 23,
   "metadata": {},
   "outputs": [
    {
     "data": {
      "text/html": [
       "<div class=\"data-frame\"><p>3 rows × 8 columns</p><table class=\"data-frame\"><thead><tr><th></th><th>Company</th><th>Tier</th><th>Quantity</th><th>Price</th><th>Cost</th><th>Revenue</th><th>Profit</th><th>Margin</th></tr><tr><th></th><th title=\"String\">String</th><th title=\"String\">String</th><th title=\"Int64\">Int64</th><th title=\"Int64\">Int64</th><th title=\"Int64\">Int64</th><th title=\"Int64\">Int64</th><th title=\"Int64\">Int64</th><th title=\"Float64\">Float64</th></tr></thead><tbody><tr><th>1</th><td>Company A</td><td>Premium</td><td>10</td><td>100</td><td>30</td><td>1000</td><td>970</td><td>0.97</td></tr><tr><th>2</th><td>Company B</td><td>Economy</td><td>100</td><td>10</td><td>7</td><td>1000</td><td>993</td><td>0.993</td></tr><tr><th>3</th><td>Company C</td><td>Standard</td><td>50</td><td>50</td><td>25</td><td>2500</td><td>2475</td><td>0.99</td></tr></tbody></table></div>"
      ],
      "text/latex": [
       "\\begin{tabular}{r|cccccccc}\n",
       "\t& Company & Tier & Quantity & Price & Cost & Revenue & Profit & Margin\\\\\n",
       "\t\\hline\n",
       "\t& String & String & Int64 & Int64 & Int64 & Int64 & Int64 & Float64\\\\\n",
       "\t\\hline\n",
       "\t1 & Company A & Premium & 10 & 100 & 30 & 1000 & 970 & 0.97 \\\\\n",
       "\t2 & Company B & Economy & 100 & 10 & 7 & 1000 & 993 & 0.993 \\\\\n",
       "\t3 & Company C & Standard & 50 & 50 & 25 & 2500 & 2475 & 0.99 \\\\\n",
       "\\end{tabular}\n"
      ],
      "text/plain": [
       "\u001b[1m3×8 DataFrame\u001b[0m\n",
       "\u001b[1m Row \u001b[0m│\u001b[1m Company   \u001b[0m\u001b[1m Tier     \u001b[0m\u001b[1m Quantity \u001b[0m\u001b[1m Price \u001b[0m\u001b[1m Cost  \u001b[0m\u001b[1m Revenue \u001b[0m\u001b[1m Profit \u001b[0m\u001b[1m Margin  \u001b[0m\n",
       "\u001b[1m     \u001b[0m│\u001b[90m String    \u001b[0m\u001b[90m String   \u001b[0m\u001b[90m Int64    \u001b[0m\u001b[90m Int64 \u001b[0m\u001b[90m Int64 \u001b[0m\u001b[90m Int64   \u001b[0m\u001b[90m Int64  \u001b[0m\u001b[90m Float64 \u001b[0m\n",
       "─────┼───────────────────────────────────────────────────────────────────────\n",
       "   1 │ Company A  Premium         10    100     30     1000     970    0.97\n",
       "   2 │ Company B  Economy        100     10      7     1000     993    0.993\n",
       "   3 │ Company C  Standard        50     50     25     2500    2475    0.99"
      ]
     },
     "metadata": {},
     "output_type": "display_data"
    }
   ],
   "source": [
    "rename(df, :Brand => :Company)"
   ]
  },
  {
   "cell_type": "code",
   "execution_count": 24,
   "metadata": {},
   "outputs": [
    {
     "data": {
      "text/html": [
       "<div class=\"data-frame\"><p>3 rows × 8 columns</p><table class=\"data-frame\"><thead><tr><th></th><th>Brand</th><th>Tier</th><th>Quantity</th><th>Price</th><th>Cost</th><th>Revenue</th><th>Profit</th><th>Margin</th></tr><tr><th></th><th title=\"String\">String</th><th title=\"String\">String</th><th title=\"Int64\">Int64</th><th title=\"Int64\">Int64</th><th title=\"Int64\">Int64</th><th title=\"Int64\">Int64</th><th title=\"Int64\">Int64</th><th title=\"Float64\">Float64</th></tr></thead><tbody><tr><th>1</th><td>Company A</td><td>Premium</td><td>10</td><td>100</td><td>30</td><td>1000</td><td>970</td><td>0.97</td></tr><tr><th>2</th><td>Company B</td><td>Economy</td><td>100</td><td>10</td><td>7</td><td>1000</td><td>993</td><td>0.993</td></tr><tr><th>3</th><td>Company C</td><td>Standard</td><td>50</td><td>50</td><td>25</td><td>2500</td><td>2475</td><td>0.99</td></tr></tbody></table></div>"
      ],
      "text/latex": [
       "\\begin{tabular}{r|cccccccc}\n",
       "\t& Brand & Tier & Quantity & Price & Cost & Revenue & Profit & Margin\\\\\n",
       "\t\\hline\n",
       "\t& String & String & Int64 & Int64 & Int64 & Int64 & Int64 & Float64\\\\\n",
       "\t\\hline\n",
       "\t1 & Company A & Premium & 10 & 100 & 30 & 1000 & 970 & 0.97 \\\\\n",
       "\t2 & Company B & Economy & 100 & 10 & 7 & 1000 & 993 & 0.993 \\\\\n",
       "\t3 & Company C & Standard & 50 & 50 & 25 & 2500 & 2475 & 0.99 \\\\\n",
       "\\end{tabular}\n"
      ],
      "text/plain": [
       "\u001b[1m3×8 DataFrame\u001b[0m\n",
       "\u001b[1m Row \u001b[0m│\u001b[1m Brand     \u001b[0m\u001b[1m Tier     \u001b[0m\u001b[1m Quantity \u001b[0m\u001b[1m Price \u001b[0m\u001b[1m Cost  \u001b[0m\u001b[1m Revenue \u001b[0m\u001b[1m Profit \u001b[0m\u001b[1m Margin  \u001b[0m\n",
       "\u001b[1m     \u001b[0m│\u001b[90m String    \u001b[0m\u001b[90m String   \u001b[0m\u001b[90m Int64    \u001b[0m\u001b[90m Int64 \u001b[0m\u001b[90m Int64 \u001b[0m\u001b[90m Int64   \u001b[0m\u001b[90m Int64  \u001b[0m\u001b[90m Float64 \u001b[0m\n",
       "─────┼───────────────────────────────────────────────────────────────────────\n",
       "   1 │ Company A  Premium         10    100     30     1000     970    0.97\n",
       "   2 │ Company B  Economy        100     10      7     1000     993    0.993\n",
       "   3 │ Company C  Standard        50     50     25     2500    2475    0.99"
      ]
     },
     "metadata": {},
     "output_type": "display_data"
    }
   ],
   "source": [
    "df"
   ]
  },
  {
   "cell_type": "markdown",
   "metadata": {},
   "source": [
    "rename() function would not change the names of data frame permanently. \n",
    "\n",
    "To permanently change the name, we need rename!() function. "
   ]
  },
  {
   "cell_type": "code",
   "execution_count": 25,
   "metadata": {},
   "outputs": [
    {
     "data": {
      "text/html": [
       "<div class=\"data-frame\"><p>3 rows × 8 columns</p><table class=\"data-frame\"><thead><tr><th></th><th>Brand</th><th>Tier</th><th>Quantity</th><th>Price</th><th>Cost</th><th>Revenue</th><th>Profits</th><th>Margin</th></tr><tr><th></th><th title=\"String\">String</th><th title=\"String\">String</th><th title=\"Int64\">Int64</th><th title=\"Int64\">Int64</th><th title=\"Int64\">Int64</th><th title=\"Int64\">Int64</th><th title=\"Int64\">Int64</th><th title=\"Float64\">Float64</th></tr></thead><tbody><tr><th>1</th><td>Company A</td><td>Premium</td><td>10</td><td>100</td><td>30</td><td>1000</td><td>970</td><td>0.97</td></tr><tr><th>2</th><td>Company B</td><td>Economy</td><td>100</td><td>10</td><td>7</td><td>1000</td><td>993</td><td>0.993</td></tr><tr><th>3</th><td>Company C</td><td>Standard</td><td>50</td><td>50</td><td>25</td><td>2500</td><td>2475</td><td>0.99</td></tr></tbody></table></div>"
      ],
      "text/latex": [
       "\\begin{tabular}{r|cccccccc}\n",
       "\t& Brand & Tier & Quantity & Price & Cost & Revenue & Profits & Margin\\\\\n",
       "\t\\hline\n",
       "\t& String & String & Int64 & Int64 & Int64 & Int64 & Int64 & Float64\\\\\n",
       "\t\\hline\n",
       "\t1 & Company A & Premium & 10 & 100 & 30 & 1000 & 970 & 0.97 \\\\\n",
       "\t2 & Company B & Economy & 100 & 10 & 7 & 1000 & 993 & 0.993 \\\\\n",
       "\t3 & Company C & Standard & 50 & 50 & 25 & 2500 & 2475 & 0.99 \\\\\n",
       "\\end{tabular}\n"
      ],
      "text/plain": [
       "\u001b[1m3×8 DataFrame\u001b[0m\n",
       "\u001b[1m Row \u001b[0m│\u001b[1m Brand     \u001b[0m\u001b[1m Tier     \u001b[0m\u001b[1m Quantity \u001b[0m\u001b[1m Price \u001b[0m\u001b[1m Cost  \u001b[0m\u001b[1m Revenue \u001b[0m\u001b[1m Profits \u001b[0m\u001b[1m Margin  \u001b[0m\n",
       "\u001b[1m     \u001b[0m│\u001b[90m String    \u001b[0m\u001b[90m String   \u001b[0m\u001b[90m Int64    \u001b[0m\u001b[90m Int64 \u001b[0m\u001b[90m Int64 \u001b[0m\u001b[90m Int64   \u001b[0m\u001b[90m Int64   \u001b[0m\u001b[90m Float64 \u001b[0m\n",
       "─────┼────────────────────────────────────────────────────────────────────────\n",
       "   1 │ Company A  Premium         10    100     30     1000      970    0.97\n",
       "   2 │ Company B  Economy        100     10      7     1000      993    0.993\n",
       "   3 │ Company C  Standard        50     50     25     2500     2475    0.99"
      ]
     },
     "metadata": {},
     "output_type": "display_data"
    }
   ],
   "source": [
    "rename!(df, :Profit => :Profits)"
   ]
  },
  {
   "cell_type": "code",
   "execution_count": 26,
   "metadata": {},
   "outputs": [
    {
     "data": {
      "text/html": [
       "<div class=\"data-frame\"><p>3 rows × 8 columns</p><table class=\"data-frame\"><thead><tr><th></th><th>Brand</th><th>Tier</th><th>Quantity</th><th>Price</th><th>Cost</th><th>Revenue</th><th>Profits</th><th>Margin</th></tr><tr><th></th><th title=\"String\">String</th><th title=\"String\">String</th><th title=\"Int64\">Int64</th><th title=\"Int64\">Int64</th><th title=\"Int64\">Int64</th><th title=\"Int64\">Int64</th><th title=\"Int64\">Int64</th><th title=\"Float64\">Float64</th></tr></thead><tbody><tr><th>1</th><td>Company A</td><td>Premium</td><td>10</td><td>100</td><td>30</td><td>1000</td><td>970</td><td>0.97</td></tr><tr><th>2</th><td>Company B</td><td>Economy</td><td>100</td><td>10</td><td>7</td><td>1000</td><td>993</td><td>0.993</td></tr><tr><th>3</th><td>Company C</td><td>Standard</td><td>50</td><td>50</td><td>25</td><td>2500</td><td>2475</td><td>0.99</td></tr></tbody></table></div>"
      ],
      "text/latex": [
       "\\begin{tabular}{r|cccccccc}\n",
       "\t& Brand & Tier & Quantity & Price & Cost & Revenue & Profits & Margin\\\\\n",
       "\t\\hline\n",
       "\t& String & String & Int64 & Int64 & Int64 & Int64 & Int64 & Float64\\\\\n",
       "\t\\hline\n",
       "\t1 & Company A & Premium & 10 & 100 & 30 & 1000 & 970 & 0.97 \\\\\n",
       "\t2 & Company B & Economy & 100 & 10 & 7 & 1000 & 993 & 0.993 \\\\\n",
       "\t3 & Company C & Standard & 50 & 50 & 25 & 2500 & 2475 & 0.99 \\\\\n",
       "\\end{tabular}\n"
      ],
      "text/plain": [
       "\u001b[1m3×8 DataFrame\u001b[0m\n",
       "\u001b[1m Row \u001b[0m│\u001b[1m Brand     \u001b[0m\u001b[1m Tier     \u001b[0m\u001b[1m Quantity \u001b[0m\u001b[1m Price \u001b[0m\u001b[1m Cost  \u001b[0m\u001b[1m Revenue \u001b[0m\u001b[1m Profits \u001b[0m\u001b[1m Margin  \u001b[0m\n",
       "\u001b[1m     \u001b[0m│\u001b[90m String    \u001b[0m\u001b[90m String   \u001b[0m\u001b[90m Int64    \u001b[0m\u001b[90m Int64 \u001b[0m\u001b[90m Int64 \u001b[0m\u001b[90m Int64   \u001b[0m\u001b[90m Int64   \u001b[0m\u001b[90m Float64 \u001b[0m\n",
       "─────┼────────────────────────────────────────────────────────────────────────\n",
       "   1 │ Company A  Premium         10    100     30     1000      970    0.97\n",
       "   2 │ Company B  Economy        100     10      7     1000      993    0.993\n",
       "   3 │ Company C  Standard        50     50     25     2500     2475    0.99"
      ]
     },
     "metadata": {},
     "output_type": "display_data"
    }
   ],
   "source": [
    "df"
   ]
  },
  {
   "cell_type": "markdown",
   "metadata": {},
   "source": [
    "## Data Analysis with DataFrame (Examples)"
   ]
  },
  {
   "cell_type": "markdown",
   "metadata": {},
   "source": [
    "First, we download the data from Wikipedia about World Population. \n",
    "We use DataFrame and CSV to convert it into data frame for further analysis. "
   ]
  },
  {
   "cell_type": "code",
   "execution_count": 27,
   "metadata": {},
   "outputs": [
    {
     "data": {
      "text/html": [
       "<div class=\"data-frame\"><p>242 rows × 8 columns (omitted printing of 3 columns)</p><table class=\"data-frame\"><thead><tr><th></th><th>Rank</th><th>Country / Dependency</th><th>Region</th><th>Population</th><th>Percentage of the world</th></tr><tr><th></th><th title=\"String3\">String3</th><th title=\"String\">String</th><th title=\"Union{Missing, String15}\">String15?</th><th title=\"String15\">String15</th><th title=\"String15\">String15</th></tr></thead><tbody><tr><th>1</th><td>–</td><td>World</td><td><em>missing</em></td><td>7,950,786,000</td><td>100%</td></tr><tr><th>2</th><td>1</td><td>China</td><td>Asia</td><td>1,412,600,000</td><td>17.8%</td></tr><tr><th>3</th><td>2</td><td>India</td><td>Asia</td><td>1,376,380,925</td><td>17.3%</td></tr><tr><th>4</th><td>3</td><td>United States</td><td>Americas</td><td>332,684,062</td><td>4.18%</td></tr><tr><th>5</th><td>4</td><td>Indonesia</td><td>Asia[b]</td><td>272,248,500</td><td>3.42%</td></tr><tr><th>6</th><td>5</td><td>Pakistan</td><td>Asia</td><td>225,199,937</td><td>2.83%</td></tr><tr><th>7</th><td>6</td><td>Brazil</td><td>Americas</td><td>214,642,119</td><td>2.70%</td></tr><tr><th>8</th><td>7</td><td>Nigeria</td><td>Africa</td><td>211,400,708</td><td>2.66%</td></tr><tr><th>9</th><td>8</td><td>Bangladesh</td><td>Asia</td><td>172,732,070</td><td>2.17%</td></tr><tr><th>10</th><td>9</td><td>Russia</td><td>Europe[c]</td><td>145,478,097</td><td>1.83%</td></tr><tr><th>11</th><td>10</td><td>Mexico</td><td>Americas</td><td>127,996,051</td><td>1.61%</td></tr><tr><th>12</th><td>11</td><td>Japan</td><td>Asia</td><td>125,502,000</td><td>1.58%</td></tr><tr><th>13</th><td>12</td><td>Ethiopia</td><td>Africa</td><td>117,876,000</td><td>1.48%</td></tr><tr><th>14</th><td>13</td><td>Philippines</td><td>Asia</td><td>111,894,749</td><td>1.41%</td></tr><tr><th>15</th><td>14</td><td>Egypt</td><td>Africa[b]</td><td>103,296,782</td><td>1.30%</td></tr><tr><th>16</th><td>15</td><td>Vietnam</td><td>Asia</td><td>98,505,400</td><td>1.24%</td></tr><tr><th>17</th><td>16</td><td>DR Congo</td><td>Africa</td><td>92,378,000</td><td>1.16%</td></tr><tr><th>18</th><td>17</td><td>Iran</td><td>Asia</td><td>85,445,419</td><td>1.07%</td></tr><tr><th>19</th><td>18</td><td>Turkey</td><td>Asia[b]</td><td>84,680,273</td><td>1.07%</td></tr><tr><th>20</th><td>19</td><td>Germany</td><td>Europe</td><td>83,222,442</td><td>1.05%</td></tr><tr><th>21</th><td>20</td><td>France</td><td>Europe</td><td>67,841,000</td><td>0.853%</td></tr><tr><th>22</th><td>21</td><td>United Kingdom</td><td>Europe</td><td>67,081,000</td><td>0.844%</td></tr><tr><th>23</th><td>22</td><td>Thailand</td><td>Asia</td><td>66,788,917</td><td>0.840%</td></tr><tr><th>24</th><td>23</td><td>South Africa</td><td>Africa</td><td>60,142,978</td><td>0.756%</td></tr><tr><th>&vellip;</th><td>&vellip;</td><td>&vellip;</td><td>&vellip;</td><td>&vellip;</td><td>&vellip;</td></tr></tbody></table></div>"
      ],
      "text/latex": [
       "\\begin{tabular}{r|cccccc}\n",
       "\t& Rank & Country / Dependency & Region & Population & Percentage of the world & \\\\\n",
       "\t\\hline\n",
       "\t& String3 & String & String15? & String15 & String15 & \\\\\n",
       "\t\\hline\n",
       "\t1 & – & World & \\emph{missing} & 7,950,786,000 & 100\\% & $\\dots$ \\\\\n",
       "\t2 & 1 & China & Asia & 1,412,600,000 & 17.8\\% & $\\dots$ \\\\\n",
       "\t3 & 2 & India & Asia & 1,376,380,925 & 17.3\\% & $\\dots$ \\\\\n",
       "\t4 & 3 & United States & Americas & 332,684,062 & 4.18\\% & $\\dots$ \\\\\n",
       "\t5 & 4 & Indonesia & Asia[b] & 272,248,500 & 3.42\\% & $\\dots$ \\\\\n",
       "\t6 & 5 & Pakistan & Asia & 225,199,937 & 2.83\\% & $\\dots$ \\\\\n",
       "\t7 & 6 & Brazil & Americas & 214,642,119 & 2.70\\% & $\\dots$ \\\\\n",
       "\t8 & 7 & Nigeria & Africa & 211,400,708 & 2.66\\% & $\\dots$ \\\\\n",
       "\t9 & 8 & Bangladesh & Asia & 172,732,070 & 2.17\\% & $\\dots$ \\\\\n",
       "\t10 & 9 & Russia & Europe[c] & 145,478,097 & 1.83\\% & $\\dots$ \\\\\n",
       "\t11 & 10 & Mexico & Americas & 127,996,051 & 1.61\\% & $\\dots$ \\\\\n",
       "\t12 & 11 & Japan & Asia & 125,502,000 & 1.58\\% & $\\dots$ \\\\\n",
       "\t13 & 12 & Ethiopia & Africa & 117,876,000 & 1.48\\% & $\\dots$ \\\\\n",
       "\t14 & 13 & Philippines & Asia & 111,894,749 & 1.41\\% & $\\dots$ \\\\\n",
       "\t15 & 14 & Egypt & Africa[b] & 103,296,782 & 1.30\\% & $\\dots$ \\\\\n",
       "\t16 & 15 & Vietnam & Asia & 98,505,400 & 1.24\\% & $\\dots$ \\\\\n",
       "\t17 & 16 & DR Congo & Africa & 92,378,000 & 1.16\\% & $\\dots$ \\\\\n",
       "\t18 & 17 & Iran & Asia & 85,445,419 & 1.07\\% & $\\dots$ \\\\\n",
       "\t19 & 18 & Turkey & Asia[b] & 84,680,273 & 1.07\\% & $\\dots$ \\\\\n",
       "\t20 & 19 & Germany & Europe & 83,222,442 & 1.05\\% & $\\dots$ \\\\\n",
       "\t21 & 20 & France & Europe & 67,841,000 & 0.853\\% & $\\dots$ \\\\\n",
       "\t22 & 21 & United Kingdom & Europe & 67,081,000 & 0.844\\% & $\\dots$ \\\\\n",
       "\t23 & 22 & Thailand & Asia & 66,788,917 & 0.840\\% & $\\dots$ \\\\\n",
       "\t24 & 23 & South Africa & Africa & 60,142,978 & 0.756\\% & $\\dots$ \\\\\n",
       "\t$\\dots$ & $\\dots$ & $\\dots$ & $\\dots$ & $\\dots$ & $\\dots$ &  \\\\\n",
       "\\end{tabular}\n"
      ],
      "text/plain": [
       "\u001b[1m242×8 DataFrame\u001b[0m\n",
       "\u001b[1m Row \u001b[0m│\u001b[1m Rank    \u001b[0m\u001b[1m Country / Dependency              \u001b[0m\u001b[1m Region    \u001b[0m\u001b[1m Population    \u001b[0m\u001b[1m P\u001b[0m ⋯\n",
       "\u001b[1m     \u001b[0m│\u001b[90m String3 \u001b[0m\u001b[90m String                            \u001b[0m\u001b[90m String15? \u001b[0m\u001b[90m String15      \u001b[0m\u001b[90m S\u001b[0m ⋯\n",
       "─────┼──────────────────────────────────────────────────────────────────────────\n",
       "   1 │ –        World                             \u001b[90m missing   \u001b[0m 7,950,786,000  1 ⋯\n",
       "   2 │ 1        China                              Asia       1,412,600,000  1\n",
       "   3 │ 2        India                              Asia       1,376,380,925  1\n",
       "   4 │ 3        United States                      Americas   332,684,062    4\n",
       "   5 │ 4        Indonesia                          Asia[b]    272,248,500    3 ⋯\n",
       "   6 │ 5        Pakistan                           Asia       225,199,937    2\n",
       "   7 │ 6        Brazil                             Americas   214,642,119    2\n",
       "   8 │ 7        Nigeria                            Africa     211,400,708    2\n",
       "  ⋮  │    ⋮                     ⋮                      ⋮            ⋮          ⋱\n",
       " 236 │ –        Christmas Island (Australia)       Oceania    1,966          0 ⋯\n",
       " 237 │ –        Norfolk Island (Australia)         Oceania    1,734          0\n",
       " 238 │ –        Niue (New Zealand)                 Oceania    1,549          0\n",
       " 239 │ –        Tokelau (New Zealand)              Oceania    1,501          0\n",
       " 240 │ 195      Vatican City                       Europe     825            0 ⋯\n",
       " 241 │ –        Cocos (Keeling) Islands (Austral…  Oceania    573            0\n",
       " 242 │ –        Pitcairn Islands (United Kingdom)  Oceania    40             0\n",
       "\u001b[36m                                                  4 columns and 227 rows omitted\u001b[0m"
      ]
     },
     "metadata": {},
     "output_type": "display_data"
    }
   ],
   "source": [
    "df = DataFrame(CSV.File(\"population.csv\"))"
   ]
  },
  {
   "cell_type": "markdown",
   "metadata": {},
   "source": [
    "Second, we start \"data wrangling\". "
   ]
  },
  {
   "cell_type": "code",
   "execution_count": 28,
   "metadata": {},
   "outputs": [
    {
     "data": {
      "text/html": [
       "<div class=\"data-frame\"><p>242 rows × 9 columns (omitted printing of 3 columns)</p><table class=\"data-frame\"><thead><tr><th></th><th>id</th><th>Rank</th><th>Country / Dependency</th><th>Region</th><th>Population</th><th>Percentage of the world</th></tr><tr><th></th><th title=\"Int64\">Int64</th><th title=\"String3\">String3</th><th title=\"String\">String</th><th title=\"Union{Missing, String15}\">String15?</th><th title=\"String15\">String15</th><th title=\"String15\">String15</th></tr></thead><tbody><tr><th>1</th><td>1</td><td>–</td><td>World</td><td><em>missing</em></td><td>7,950,786,000</td><td>100%</td></tr><tr><th>2</th><td>2</td><td>1</td><td>China</td><td>Asia</td><td>1,412,600,000</td><td>17.8%</td></tr><tr><th>3</th><td>3</td><td>2</td><td>India</td><td>Asia</td><td>1,376,380,925</td><td>17.3%</td></tr><tr><th>4</th><td>4</td><td>3</td><td>United States</td><td>Americas</td><td>332,684,062</td><td>4.18%</td></tr><tr><th>5</th><td>5</td><td>4</td><td>Indonesia</td><td>Asia[b]</td><td>272,248,500</td><td>3.42%</td></tr><tr><th>6</th><td>6</td><td>5</td><td>Pakistan</td><td>Asia</td><td>225,199,937</td><td>2.83%</td></tr><tr><th>7</th><td>7</td><td>6</td><td>Brazil</td><td>Americas</td><td>214,642,119</td><td>2.70%</td></tr><tr><th>8</th><td>8</td><td>7</td><td>Nigeria</td><td>Africa</td><td>211,400,708</td><td>2.66%</td></tr><tr><th>9</th><td>9</td><td>8</td><td>Bangladesh</td><td>Asia</td><td>172,732,070</td><td>2.17%</td></tr><tr><th>10</th><td>10</td><td>9</td><td>Russia</td><td>Europe[c]</td><td>145,478,097</td><td>1.83%</td></tr><tr><th>11</th><td>11</td><td>10</td><td>Mexico</td><td>Americas</td><td>127,996,051</td><td>1.61%</td></tr><tr><th>12</th><td>12</td><td>11</td><td>Japan</td><td>Asia</td><td>125,502,000</td><td>1.58%</td></tr><tr><th>13</th><td>13</td><td>12</td><td>Ethiopia</td><td>Africa</td><td>117,876,000</td><td>1.48%</td></tr><tr><th>14</th><td>14</td><td>13</td><td>Philippines</td><td>Asia</td><td>111,894,749</td><td>1.41%</td></tr><tr><th>15</th><td>15</td><td>14</td><td>Egypt</td><td>Africa[b]</td><td>103,296,782</td><td>1.30%</td></tr><tr><th>16</th><td>16</td><td>15</td><td>Vietnam</td><td>Asia</td><td>98,505,400</td><td>1.24%</td></tr><tr><th>17</th><td>17</td><td>16</td><td>DR Congo</td><td>Africa</td><td>92,378,000</td><td>1.16%</td></tr><tr><th>18</th><td>18</td><td>17</td><td>Iran</td><td>Asia</td><td>85,445,419</td><td>1.07%</td></tr><tr><th>19</th><td>19</td><td>18</td><td>Turkey</td><td>Asia[b]</td><td>84,680,273</td><td>1.07%</td></tr><tr><th>20</th><td>20</td><td>19</td><td>Germany</td><td>Europe</td><td>83,222,442</td><td>1.05%</td></tr><tr><th>21</th><td>21</td><td>20</td><td>France</td><td>Europe</td><td>67,841,000</td><td>0.853%</td></tr><tr><th>22</th><td>22</td><td>21</td><td>United Kingdom</td><td>Europe</td><td>67,081,000</td><td>0.844%</td></tr><tr><th>23</th><td>23</td><td>22</td><td>Thailand</td><td>Asia</td><td>66,788,917</td><td>0.840%</td></tr><tr><th>24</th><td>24</td><td>23</td><td>South Africa</td><td>Africa</td><td>60,142,978</td><td>0.756%</td></tr><tr><th>&vellip;</th><td>&vellip;</td><td>&vellip;</td><td>&vellip;</td><td>&vellip;</td><td>&vellip;</td><td>&vellip;</td></tr></tbody></table></div>"
      ],
      "text/latex": [
       "\\begin{tabular}{r|ccccccc}\n",
       "\t& id & Rank & Country / Dependency & Region & Population & Percentage of the world & \\\\\n",
       "\t\\hline\n",
       "\t& Int64 & String3 & String & String15? & String15 & String15 & \\\\\n",
       "\t\\hline\n",
       "\t1 & 1 & – & World & \\emph{missing} & 7,950,786,000 & 100\\% & $\\dots$ \\\\\n",
       "\t2 & 2 & 1 & China & Asia & 1,412,600,000 & 17.8\\% & $\\dots$ \\\\\n",
       "\t3 & 3 & 2 & India & Asia & 1,376,380,925 & 17.3\\% & $\\dots$ \\\\\n",
       "\t4 & 4 & 3 & United States & Americas & 332,684,062 & 4.18\\% & $\\dots$ \\\\\n",
       "\t5 & 5 & 4 & Indonesia & Asia[b] & 272,248,500 & 3.42\\% & $\\dots$ \\\\\n",
       "\t6 & 6 & 5 & Pakistan & Asia & 225,199,937 & 2.83\\% & $\\dots$ \\\\\n",
       "\t7 & 7 & 6 & Brazil & Americas & 214,642,119 & 2.70\\% & $\\dots$ \\\\\n",
       "\t8 & 8 & 7 & Nigeria & Africa & 211,400,708 & 2.66\\% & $\\dots$ \\\\\n",
       "\t9 & 9 & 8 & Bangladesh & Asia & 172,732,070 & 2.17\\% & $\\dots$ \\\\\n",
       "\t10 & 10 & 9 & Russia & Europe[c] & 145,478,097 & 1.83\\% & $\\dots$ \\\\\n",
       "\t11 & 11 & 10 & Mexico & Americas & 127,996,051 & 1.61\\% & $\\dots$ \\\\\n",
       "\t12 & 12 & 11 & Japan & Asia & 125,502,000 & 1.58\\% & $\\dots$ \\\\\n",
       "\t13 & 13 & 12 & Ethiopia & Africa & 117,876,000 & 1.48\\% & $\\dots$ \\\\\n",
       "\t14 & 14 & 13 & Philippines & Asia & 111,894,749 & 1.41\\% & $\\dots$ \\\\\n",
       "\t15 & 15 & 14 & Egypt & Africa[b] & 103,296,782 & 1.30\\% & $\\dots$ \\\\\n",
       "\t16 & 16 & 15 & Vietnam & Asia & 98,505,400 & 1.24\\% & $\\dots$ \\\\\n",
       "\t17 & 17 & 16 & DR Congo & Africa & 92,378,000 & 1.16\\% & $\\dots$ \\\\\n",
       "\t18 & 18 & 17 & Iran & Asia & 85,445,419 & 1.07\\% & $\\dots$ \\\\\n",
       "\t19 & 19 & 18 & Turkey & Asia[b] & 84,680,273 & 1.07\\% & $\\dots$ \\\\\n",
       "\t20 & 20 & 19 & Germany & Europe & 83,222,442 & 1.05\\% & $\\dots$ \\\\\n",
       "\t21 & 21 & 20 & France & Europe & 67,841,000 & 0.853\\% & $\\dots$ \\\\\n",
       "\t22 & 22 & 21 & United Kingdom & Europe & 67,081,000 & 0.844\\% & $\\dots$ \\\\\n",
       "\t23 & 23 & 22 & Thailand & Asia & 66,788,917 & 0.840\\% & $\\dots$ \\\\\n",
       "\t24 & 24 & 23 & South Africa & Africa & 60,142,978 & 0.756\\% & $\\dots$ \\\\\n",
       "\t$\\dots$ & $\\dots$ & $\\dots$ & $\\dots$ & $\\dots$ & $\\dots$ & $\\dots$ &  \\\\\n",
       "\\end{tabular}\n"
      ],
      "text/plain": [
       "\u001b[1m242×9 DataFrame\u001b[0m\n",
       "\u001b[1m Row \u001b[0m│\u001b[1m id    \u001b[0m\u001b[1m Rank    \u001b[0m\u001b[1m Country / Dependency              \u001b[0m\u001b[1m Region    \u001b[0m\u001b[1m Populatio\u001b[0m ⋯\n",
       "\u001b[1m     \u001b[0m│\u001b[90m Int64 \u001b[0m\u001b[90m String3 \u001b[0m\u001b[90m String                            \u001b[0m\u001b[90m String15? \u001b[0m\u001b[90m String15 \u001b[0m ⋯\n",
       "─────┼──────────────────────────────────────────────────────────────────────────\n",
       "   1 │     1  –        World                             \u001b[90m missing   \u001b[0m 7,950,786 ⋯\n",
       "   2 │     2  1        China                              Asia       1,412,600\n",
       "   3 │     3  2        India                              Asia       1,376,380\n",
       "   4 │     4  3        United States                      Americas   332,684,0\n",
       "   5 │     5  4        Indonesia                          Asia[b]    272,248,5 ⋯\n",
       "   6 │     6  5        Pakistan                           Asia       225,199,9\n",
       "   7 │     7  6        Brazil                             Americas   214,642,1\n",
       "   8 │     8  7        Nigeria                            Africa     211,400,7\n",
       "  ⋮  │   ⋮       ⋮                     ⋮                      ⋮            ⋮   ⋱\n",
       " 236 │   236  –        Christmas Island (Australia)       Oceania    1,966     ⋯\n",
       " 237 │   237  –        Norfolk Island (Australia)         Oceania    1,734\n",
       " 238 │   238  –        Niue (New Zealand)                 Oceania    1,549\n",
       " 239 │   239  –        Tokelau (New Zealand)              Oceania    1,501\n",
       " 240 │   240  195      Vatican City                       Europe     825       ⋯\n",
       " 241 │   241  –        Cocos (Keeling) Islands (Austral…  Oceania    573\n",
       " 242 │   242  –        Pitcairn Islands (United Kingdom)  Oceania    40\n",
       "\u001b[36m                                                  5 columns and 227 rows omitted\u001b[0m"
      ]
     },
     "metadata": {},
     "output_type": "display_data"
    }
   ],
   "source": [
    "df.id = 1:nrow(df)\n",
    "df = select!(df, :id,:)"
   ]
  },
  {
   "cell_type": "code",
   "execution_count": 29,
   "metadata": {},
   "outputs": [
    {
     "data": {
      "text/plain": [
       "9-element Vector{String}:\n",
       " \"id\"\n",
       " \"Rank\"\n",
       " \"Country / Dependency\"\n",
       " \"Region\"\n",
       " \"Population\"\n",
       " \"Percentage of the world\"\n",
       " \"Date\"\n",
       " \"Source (official or from the United Nations)\"\n",
       " \"Notes\""
      ]
     },
     "metadata": {},
     "output_type": "display_data"
    }
   ],
   "source": [
    "names(df)"
   ]
  },
  {
   "cell_type": "markdown",
   "metadata": {},
   "source": [
    "We need to remove comma in the original data."
   ]
  },
  {
   "cell_type": "code",
   "execution_count": 30,
   "metadata": {},
   "outputs": [
    {
     "data": {
      "text/plain": [
       "242-element Vector{String}:\n",
       " \"7950786000\"\n",
       " \"1412600000\"\n",
       " \"1376380925\"\n",
       " \"332684062\"\n",
       " \"272248500\"\n",
       " \"225199937\"\n",
       " \"214642119\"\n",
       " \"211400708\"\n",
       " \"172732070\"\n",
       " \"145478097\"\n",
       " ⋮\n",
       " \"5000\"\n",
       " \"4000\"\n",
       " \"1966\"\n",
       " \"1734\"\n",
       " \"1549\"\n",
       " \"1501\"\n",
       " \"825\"\n",
       " \"573\"\n",
       " \"40\""
      ]
     },
     "metadata": {},
     "output_type": "display_data"
    }
   ],
   "source": [
    "df.Pop = replace.(df.Population,\",\" => \"\")"
   ]
  },
  {
   "cell_type": "markdown",
   "metadata": {},
   "source": [
    "Convert String into Integer."
   ]
  },
  {
   "cell_type": "code",
   "execution_count": 32,
   "metadata": {},
   "outputs": [
    {
     "data": {
      "text/plain": [
       "242-element Vector{Int64}:\n",
       " 7950786000\n",
       " 1412600000\n",
       " 1376380925\n",
       "  332684062\n",
       "  272248500\n",
       "  225199937\n",
       "  214642119\n",
       "  211400708\n",
       "  172732070\n",
       "  145478097\n",
       "          ⋮\n",
       "       5000\n",
       "       4000\n",
       "       1966\n",
       "       1734\n",
       "       1549\n",
       "       1501\n",
       "        825\n",
       "        573\n",
       "         40"
      ]
     },
     "metadata": {},
     "output_type": "display_data"
    }
   ],
   "source": [
    "df.Pop64 = parse.(Int,df.Pop)"
   ]
  },
  {
   "cell_type": "code",
   "execution_count": 33,
   "metadata": {},
   "outputs": [
    {
     "data": {
      "text/html": [
       "<div class=\"data-frame\"><p>242 rows × 11 columns (omitted printing of 5 columns)</p><table class=\"data-frame\"><thead><tr><th></th><th>id</th><th>Rank</th><th>Country / Dependency</th><th>Region</th><th>Population</th><th>Percentage of the world</th></tr><tr><th></th><th title=\"Int64\">Int64</th><th title=\"String3\">String3</th><th title=\"String\">String</th><th title=\"Union{Missing, String15}\">String15?</th><th title=\"String15\">String15</th><th title=\"String15\">String15</th></tr></thead><tbody><tr><th>1</th><td>1</td><td>–</td><td>World</td><td><em>missing</em></td><td>7,950,786,000</td><td>100%</td></tr><tr><th>2</th><td>2</td><td>1</td><td>China</td><td>Asia</td><td>1,412,600,000</td><td>17.8%</td></tr><tr><th>3</th><td>3</td><td>2</td><td>India</td><td>Asia</td><td>1,376,380,925</td><td>17.3%</td></tr><tr><th>4</th><td>4</td><td>3</td><td>United States</td><td>Americas</td><td>332,684,062</td><td>4.18%</td></tr><tr><th>5</th><td>5</td><td>4</td><td>Indonesia</td><td>Asia[b]</td><td>272,248,500</td><td>3.42%</td></tr><tr><th>6</th><td>6</td><td>5</td><td>Pakistan</td><td>Asia</td><td>225,199,937</td><td>2.83%</td></tr><tr><th>7</th><td>7</td><td>6</td><td>Brazil</td><td>Americas</td><td>214,642,119</td><td>2.70%</td></tr><tr><th>8</th><td>8</td><td>7</td><td>Nigeria</td><td>Africa</td><td>211,400,708</td><td>2.66%</td></tr><tr><th>9</th><td>9</td><td>8</td><td>Bangladesh</td><td>Asia</td><td>172,732,070</td><td>2.17%</td></tr><tr><th>10</th><td>10</td><td>9</td><td>Russia</td><td>Europe[c]</td><td>145,478,097</td><td>1.83%</td></tr><tr><th>11</th><td>11</td><td>10</td><td>Mexico</td><td>Americas</td><td>127,996,051</td><td>1.61%</td></tr><tr><th>12</th><td>12</td><td>11</td><td>Japan</td><td>Asia</td><td>125,502,000</td><td>1.58%</td></tr><tr><th>13</th><td>13</td><td>12</td><td>Ethiopia</td><td>Africa</td><td>117,876,000</td><td>1.48%</td></tr><tr><th>14</th><td>14</td><td>13</td><td>Philippines</td><td>Asia</td><td>111,894,749</td><td>1.41%</td></tr><tr><th>15</th><td>15</td><td>14</td><td>Egypt</td><td>Africa[b]</td><td>103,296,782</td><td>1.30%</td></tr><tr><th>16</th><td>16</td><td>15</td><td>Vietnam</td><td>Asia</td><td>98,505,400</td><td>1.24%</td></tr><tr><th>17</th><td>17</td><td>16</td><td>DR Congo</td><td>Africa</td><td>92,378,000</td><td>1.16%</td></tr><tr><th>18</th><td>18</td><td>17</td><td>Iran</td><td>Asia</td><td>85,445,419</td><td>1.07%</td></tr><tr><th>19</th><td>19</td><td>18</td><td>Turkey</td><td>Asia[b]</td><td>84,680,273</td><td>1.07%</td></tr><tr><th>20</th><td>20</td><td>19</td><td>Germany</td><td>Europe</td><td>83,222,442</td><td>1.05%</td></tr><tr><th>21</th><td>21</td><td>20</td><td>France</td><td>Europe</td><td>67,841,000</td><td>0.853%</td></tr><tr><th>22</th><td>22</td><td>21</td><td>United Kingdom</td><td>Europe</td><td>67,081,000</td><td>0.844%</td></tr><tr><th>23</th><td>23</td><td>22</td><td>Thailand</td><td>Asia</td><td>66,788,917</td><td>0.840%</td></tr><tr><th>24</th><td>24</td><td>23</td><td>South Africa</td><td>Africa</td><td>60,142,978</td><td>0.756%</td></tr><tr><th>&vellip;</th><td>&vellip;</td><td>&vellip;</td><td>&vellip;</td><td>&vellip;</td><td>&vellip;</td><td>&vellip;</td></tr></tbody></table></div>"
      ],
      "text/latex": [
       "\\begin{tabular}{r|ccccccc}\n",
       "\t& id & Rank & Country / Dependency & Region & Population & Percentage of the world & \\\\\n",
       "\t\\hline\n",
       "\t& Int64 & String3 & String & String15? & String15 & String15 & \\\\\n",
       "\t\\hline\n",
       "\t1 & 1 & – & World & \\emph{missing} & 7,950,786,000 & 100\\% & $\\dots$ \\\\\n",
       "\t2 & 2 & 1 & China & Asia & 1,412,600,000 & 17.8\\% & $\\dots$ \\\\\n",
       "\t3 & 3 & 2 & India & Asia & 1,376,380,925 & 17.3\\% & $\\dots$ \\\\\n",
       "\t4 & 4 & 3 & United States & Americas & 332,684,062 & 4.18\\% & $\\dots$ \\\\\n",
       "\t5 & 5 & 4 & Indonesia & Asia[b] & 272,248,500 & 3.42\\% & $\\dots$ \\\\\n",
       "\t6 & 6 & 5 & Pakistan & Asia & 225,199,937 & 2.83\\% & $\\dots$ \\\\\n",
       "\t7 & 7 & 6 & Brazil & Americas & 214,642,119 & 2.70\\% & $\\dots$ \\\\\n",
       "\t8 & 8 & 7 & Nigeria & Africa & 211,400,708 & 2.66\\% & $\\dots$ \\\\\n",
       "\t9 & 9 & 8 & Bangladesh & Asia & 172,732,070 & 2.17\\% & $\\dots$ \\\\\n",
       "\t10 & 10 & 9 & Russia & Europe[c] & 145,478,097 & 1.83\\% & $\\dots$ \\\\\n",
       "\t11 & 11 & 10 & Mexico & Americas & 127,996,051 & 1.61\\% & $\\dots$ \\\\\n",
       "\t12 & 12 & 11 & Japan & Asia & 125,502,000 & 1.58\\% & $\\dots$ \\\\\n",
       "\t13 & 13 & 12 & Ethiopia & Africa & 117,876,000 & 1.48\\% & $\\dots$ \\\\\n",
       "\t14 & 14 & 13 & Philippines & Asia & 111,894,749 & 1.41\\% & $\\dots$ \\\\\n",
       "\t15 & 15 & 14 & Egypt & Africa[b] & 103,296,782 & 1.30\\% & $\\dots$ \\\\\n",
       "\t16 & 16 & 15 & Vietnam & Asia & 98,505,400 & 1.24\\% & $\\dots$ \\\\\n",
       "\t17 & 17 & 16 & DR Congo & Africa & 92,378,000 & 1.16\\% & $\\dots$ \\\\\n",
       "\t18 & 18 & 17 & Iran & Asia & 85,445,419 & 1.07\\% & $\\dots$ \\\\\n",
       "\t19 & 19 & 18 & Turkey & Asia[b] & 84,680,273 & 1.07\\% & $\\dots$ \\\\\n",
       "\t20 & 20 & 19 & Germany & Europe & 83,222,442 & 1.05\\% & $\\dots$ \\\\\n",
       "\t21 & 21 & 20 & France & Europe & 67,841,000 & 0.853\\% & $\\dots$ \\\\\n",
       "\t22 & 22 & 21 & United Kingdom & Europe & 67,081,000 & 0.844\\% & $\\dots$ \\\\\n",
       "\t23 & 23 & 22 & Thailand & Asia & 66,788,917 & 0.840\\% & $\\dots$ \\\\\n",
       "\t24 & 24 & 23 & South Africa & Africa & 60,142,978 & 0.756\\% & $\\dots$ \\\\\n",
       "\t$\\dots$ & $\\dots$ & $\\dots$ & $\\dots$ & $\\dots$ & $\\dots$ & $\\dots$ &  \\\\\n",
       "\\end{tabular}\n"
      ],
      "text/plain": [
       "\u001b[1m242×11 DataFrame\u001b[0m\n",
       "\u001b[1m Row \u001b[0m│\u001b[1m id    \u001b[0m\u001b[1m Rank    \u001b[0m\u001b[1m Country / Dependency              \u001b[0m\u001b[1m Region    \u001b[0m\u001b[1m Populatio\u001b[0m ⋯\n",
       "\u001b[1m     \u001b[0m│\u001b[90m Int64 \u001b[0m\u001b[90m String3 \u001b[0m\u001b[90m String                            \u001b[0m\u001b[90m String15? \u001b[0m\u001b[90m String15 \u001b[0m ⋯\n",
       "─────┼──────────────────────────────────────────────────────────────────────────\n",
       "   1 │     1  –        World                             \u001b[90m missing   \u001b[0m 7,950,786 ⋯\n",
       "   2 │     2  1        China                              Asia       1,412,600\n",
       "   3 │     3  2        India                              Asia       1,376,380\n",
       "   4 │     4  3        United States                      Americas   332,684,0\n",
       "   5 │     5  4        Indonesia                          Asia[b]    272,248,5 ⋯\n",
       "   6 │     6  5        Pakistan                           Asia       225,199,9\n",
       "   7 │     7  6        Brazil                             Americas   214,642,1\n",
       "   8 │     8  7        Nigeria                            Africa     211,400,7\n",
       "  ⋮  │   ⋮       ⋮                     ⋮                      ⋮            ⋮   ⋱\n",
       " 236 │   236  –        Christmas Island (Australia)       Oceania    1,966     ⋯\n",
       " 237 │   237  –        Norfolk Island (Australia)         Oceania    1,734\n",
       " 238 │   238  –        Niue (New Zealand)                 Oceania    1,549\n",
       " 239 │   239  –        Tokelau (New Zealand)              Oceania    1,501\n",
       " 240 │   240  195      Vatican City                       Europe     825       ⋯\n",
       " 241 │   241  –        Cocos (Keeling) Islands (Austral…  Oceania    573\n",
       " 242 │   242  –        Pitcairn Islands (United Kingdom)  Oceania    40\n",
       "\u001b[36m                                                  7 columns and 227 rows omitted\u001b[0m"
      ]
     },
     "metadata": {},
     "output_type": "display_data"
    }
   ],
   "source": [
    "df"
   ]
  },
  {
   "cell_type": "code",
   "execution_count": 34,
   "metadata": {},
   "outputs": [
    {
     "data": {
      "text/plain": [
       "242-element Vector{Float64}:\n",
       " 7950.786\n",
       " 1412.6\n",
       " 1376.381\n",
       "  332.684\n",
       "  272.248\n",
       "  225.2\n",
       "  214.642\n",
       "  211.401\n",
       "  172.732\n",
       "  145.478\n",
       "    ⋮\n",
       "    0.005\n",
       "    0.004\n",
       "    0.002\n",
       "    0.002\n",
       "    0.002\n",
       "    0.002\n",
       "    0.001\n",
       "    0.001\n",
       "    0.0"
      ]
     },
     "metadata": {},
     "output_type": "display_data"
    }
   ],
   "source": [
    "df.Poprev = round.(df.Pop64 ./10^6,digits = 3)"
   ]
  },
  {
   "cell_type": "code",
   "execution_count": null,
   "metadata": {},
   "outputs": [],
   "source": []
  }
 ],
 "metadata": {
  "kernelspec": {
   "display_name": "Julia 1.7.2",
   "language": "julia",
   "name": "julia-1.7"
  },
  "language_info": {
   "file_extension": ".jl",
   "mimetype": "application/julia",
   "name": "julia",
   "version": "1.7.2"
  },
  "orig_nbformat": 4
 },
 "nbformat": 4,
 "nbformat_minor": 2
}
