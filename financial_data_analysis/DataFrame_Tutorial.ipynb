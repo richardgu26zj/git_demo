{
 "cells": [
  {
   "cell_type": "markdown",
   "metadata": {},
   "source": [
    "# Introduction to DataFrames"
   ]
  },
  {
   "cell_type": "markdown",
   "metadata": {},
   "source": [
    "### 1. Load Julia packages"
   ]
  },
  {
   "cell_type": "code",
   "execution_count": 3,
   "metadata": {},
   "outputs": [],
   "source": [
    "using DataFrames,CSV,Statistics"
   ]
  },
  {
   "cell_type": "markdown",
   "metadata": {},
   "source": [
    "### 2. Construct a DataFrame from scratch\n",
    "The following data table would constain information about cities in China. \n",
    "\n",
    " - rows = instances = cities\n",
    " - columns = features = attributes of cities"
   ]
  },
  {
   "cell_type": "code",
   "execution_count": 4,
   "metadata": {},
   "outputs": [],
   "source": [
    "cities = [\"Hangzhou\",\"Ningbo\",\"Wenzhou\"];\n",
    "populations = [2000,1500,1000];"
   ]
  },
  {
   "cell_type": "markdown",
   "metadata": {},
   "source": [
    "Now we use DataFrame to construct the above information."
   ]
  },
  {
   "cell_type": "code",
   "execution_count": 6,
   "metadata": {},
   "outputs": [
    {
     "data": {
      "text/html": [
       "<div class=\"data-frame\"><p>3 rows × 2 columns</p><table class=\"data-frame\"><thead><tr><th></th><th>cities</th><th>population</th></tr><tr><th></th><th title=\"String\">String</th><th title=\"Int64\">Int64</th></tr></thead><tbody><tr><th>1</th><td>Hangzhou</td><td>2000</td></tr><tr><th>2</th><td>Ningbo</td><td>1500</td></tr><tr><th>3</th><td>Wenzhou</td><td>1000</td></tr></tbody></table></div>"
      ],
      "text/latex": [
       "\\begin{tabular}{r|cc}\n",
       "\t& cities & population\\\\\n",
       "\t\\hline\n",
       "\t& String & Int64\\\\\n",
       "\t\\hline\n",
       "\t1 & Hangzhou & 2000 \\\\\n",
       "\t2 & Ningbo & 1500 \\\\\n",
       "\t3 & Wenzhou & 1000 \\\\\n",
       "\\end{tabular}\n"
      ],
      "text/plain": [
       "\u001b[1m3×2 DataFrame\u001b[0m\n",
       "\u001b[1m Row \u001b[0m│\u001b[1m cities   \u001b[0m\u001b[1m population \u001b[0m\n",
       "\u001b[1m     \u001b[0m│\u001b[90m String   \u001b[0m\u001b[90m Int64      \u001b[0m\n",
       "─────┼──────────────────────\n",
       "   1 │ Hangzhou        2000\n",
       "   2 │ Ningbo          1500\n",
       "   3 │ Wenzhou         1000"
      ]
     },
     "metadata": {},
     "output_type": "display_data"
    }
   ],
   "source": [
    "df_cities = DataFrame(cities = cities,population = populations)"
   ]
  },
  {
   "cell_type": "markdown",
   "metadata": {},
   "source": [
    "How to **append** rows to a DataFrame\n",
    "Suppose we want to append the following information.\n",
    "\n",
    "Cixi,has a population of 200. \n",
    "\n",
    "Lishui,has a population of 500.\n",
    "\n",
    " - Approach 1: think of rows of a DataFrame as an ***array***."
   ]
  },
  {
   "cell_type": "code",
   "execution_count": 7,
   "metadata": {},
   "outputs": [
    {
     "data": {
      "text/html": [
       "<div class=\"data-frame\"><p>4 rows × 2 columns</p><table class=\"data-frame\"><thead><tr><th></th><th>cities</th><th>population</th></tr><tr><th></th><th title=\"String\">String</th><th title=\"Int64\">Int64</th></tr></thead><tbody><tr><th>1</th><td>Hangzhou</td><td>2000</td></tr><tr><th>2</th><td>Ningbo</td><td>1500</td></tr><tr><th>3</th><td>Wenzhou</td><td>1000</td></tr><tr><th>4</th><td>Cixi</td><td>200</td></tr></tbody></table></div>"
      ],
      "text/latex": [
       "\\begin{tabular}{r|cc}\n",
       "\t& cities & population\\\\\n",
       "\t\\hline\n",
       "\t& String & Int64\\\\\n",
       "\t\\hline\n",
       "\t1 & Hangzhou & 2000 \\\\\n",
       "\t2 & Ningbo & 1500 \\\\\n",
       "\t3 & Wenzhou & 1000 \\\\\n",
       "\t4 & Cixi & 200 \\\\\n",
       "\\end{tabular}\n"
      ],
      "text/plain": [
       "\u001b[1m4×2 DataFrame\u001b[0m\n",
       "\u001b[1m Row \u001b[0m│\u001b[1m cities   \u001b[0m\u001b[1m population \u001b[0m\n",
       "\u001b[1m     \u001b[0m│\u001b[90m String   \u001b[0m\u001b[90m Int64      \u001b[0m\n",
       "─────┼──────────────────────\n",
       "   1 │ Hangzhou        2000\n",
       "   2 │ Ningbo          1500\n",
       "   3 │ Wenzhou         1000\n",
       "   4 │ Cixi             200"
      ]
     },
     "metadata": {},
     "output_type": "display_data"
    }
   ],
   "source": [
    "push!(df_cities,[\"Cixi\",200])"
   ]
  },
  {
   "cell_type": "markdown",
   "metadata": {},
   "source": [
    " - Approach 2: think of rows of a DataFrame as a Dictionary"
   ]
  },
  {
   "cell_type": "code",
   "execution_count": 11,
   "metadata": {},
   "outputs": [
    {
     "name": "stderr",
     "output_type": "stream",
     "text": [
      "┌ Error: Error adding value to column :cities.\n",
      "└ @ DataFrames C:\\Users\\Richard Xin Gu\\.julia\\packages\\DataFrames\\6xBiG\\src\\dataframe\\dataframe.jl:1562\n"
     ]
    },
    {
     "data": {
      "text/plain": [
       "Dict{Symbol, Any} with 2 entries:\n",
       "  :cities     => \"Lishui\"\n",
       "  :population => 500"
      ]
     },
     "metadata": {},
     "output_type": "display_data"
    }
   ],
   "source": [
    "new_row = Dict(:cities => \"Lishui\", :population => 500)"
   ]
  },
  {
   "cell_type": "code",
   "execution_count": 12,
   "metadata": {},
   "outputs": [
    {
     "data": {
      "text/html": [
       "<div class=\"data-frame\"><p>5 rows × 2 columns</p><table class=\"data-frame\"><thead><tr><th></th><th>cities</th><th>population</th></tr><tr><th></th><th title=\"String\">String</th><th title=\"Int64\">Int64</th></tr></thead><tbody><tr><th>1</th><td>Hangzhou</td><td>2000</td></tr><tr><th>2</th><td>Ningbo</td><td>1500</td></tr><tr><th>3</th><td>Wenzhou</td><td>1000</td></tr><tr><th>4</th><td>Cixi</td><td>200</td></tr><tr><th>5</th><td>Lishui</td><td>500</td></tr></tbody></table></div>"
      ],
      "text/latex": [
       "\\begin{tabular}{r|cc}\n",
       "\t& cities & population\\\\\n",
       "\t\\hline\n",
       "\t& String & Int64\\\\\n",
       "\t\\hline\n",
       "\t1 & Hangzhou & 2000 \\\\\n",
       "\t2 & Ningbo & 1500 \\\\\n",
       "\t3 & Wenzhou & 1000 \\\\\n",
       "\t4 & Cixi & 200 \\\\\n",
       "\t5 & Lishui & 500 \\\\\n",
       "\\end{tabular}\n"
      ],
      "text/plain": [
       "\u001b[1m5×2 DataFrame\u001b[0m\n",
       "\u001b[1m Row \u001b[0m│\u001b[1m cities   \u001b[0m\u001b[1m population \u001b[0m\n",
       "\u001b[1m     \u001b[0m│\u001b[90m String   \u001b[0m\u001b[90m Int64      \u001b[0m\n",
       "─────┼──────────────────────\n",
       "   1 │ Hangzhou        2000\n",
       "   2 │ Ningbo          1500\n",
       "   3 │ Wenzhou         1000\n",
       "   4 │ Cixi             200\n",
       "   5 │ Lishui           500"
      ]
     },
     "metadata": {},
     "output_type": "display_data"
    }
   ],
   "source": [
    "push!(df_cities,new_row)"
   ]
  },
  {
   "cell_type": "markdown",
   "metadata": {},
   "source": [
    "How to **append columns** to a DataFrame\n",
    "\n",
    "The information is given as follows. \n",
    "\n",
    "annual ranfall[inches]:\n",
    "\n",
    " - Hangzhou:51.0\n",
    " - Ningbo: 62.0\n",
    " - Wenzhou: 65.0\n",
    " - Cixi: 62.5\n",
    " - Lishui: 50.0"
   ]
  },
  {
   "cell_type": "code",
   "execution_count": 13,
   "metadata": {},
   "outputs": [
    {
     "data": {
      "text/plain": [
       "5-element Vector{Float64}:\n",
       " 51.0\n",
       " 62.0\n",
       " 65.0\n",
       " 62.5\n",
       " 50.0"
      ]
     },
     "metadata": {},
     "output_type": "display_data"
    }
   ],
   "source": [
    "df_cities[!,:rainfall] = [51.0,62.0,65.0,62.5,50.0]"
   ]
  },
  {
   "cell_type": "code",
   "execution_count": 14,
   "metadata": {},
   "outputs": [
    {
     "data": {
      "text/html": [
       "<div class=\"data-frame\"><p>5 rows × 3 columns</p><table class=\"data-frame\"><thead><tr><th></th><th>cities</th><th>population</th><th>rainfall</th></tr><tr><th></th><th title=\"String\">String</th><th title=\"Int64\">Int64</th><th title=\"Float64\">Float64</th></tr></thead><tbody><tr><th>1</th><td>Hangzhou</td><td>2000</td><td>51.0</td></tr><tr><th>2</th><td>Ningbo</td><td>1500</td><td>62.0</td></tr><tr><th>3</th><td>Wenzhou</td><td>1000</td><td>65.0</td></tr><tr><th>4</th><td>Cixi</td><td>200</td><td>62.5</td></tr><tr><th>5</th><td>Lishui</td><td>500</td><td>50.0</td></tr></tbody></table></div>"
      ],
      "text/latex": [
       "\\begin{tabular}{r|ccc}\n",
       "\t& cities & population & rainfall\\\\\n",
       "\t\\hline\n",
       "\t& String & Int64 & Float64\\\\\n",
       "\t\\hline\n",
       "\t1 & Hangzhou & 2000 & 51.0 \\\\\n",
       "\t2 & Ningbo & 1500 & 62.0 \\\\\n",
       "\t3 & Wenzhou & 1000 & 65.0 \\\\\n",
       "\t4 & Cixi & 200 & 62.5 \\\\\n",
       "\t5 & Lishui & 500 & 50.0 \\\\\n",
       "\\end{tabular}\n"
      ],
      "text/plain": [
       "\u001b[1m5×3 DataFrame\u001b[0m\n",
       "\u001b[1m Row \u001b[0m│\u001b[1m cities   \u001b[0m\u001b[1m population \u001b[0m\u001b[1m rainfall \u001b[0m\n",
       "\u001b[1m     \u001b[0m│\u001b[90m String   \u001b[0m\u001b[90m Int64      \u001b[0m\u001b[90m Float64  \u001b[0m\n",
       "─────┼────────────────────────────────\n",
       "   1 │ Hangzhou        2000      51.0\n",
       "   2 │ Ningbo          1500      62.0\n",
       "   3 │ Wenzhou         1000      65.0\n",
       "   4 │ Cixi             200      62.5\n",
       "   5 │ Lishui           500      50.0"
      ]
     },
     "metadata": {},
     "output_type": "display_data"
    }
   ],
   "source": [
    "df_cities"
   ]
  },
  {
   "cell_type": "markdown",
   "metadata": {},
   "source": [
    "Another way to insert column by using DataFrames.insertcols!\n",
    "\n",
    "We want to insert in the second column about where those cities are."
   ]
  },
  {
   "cell_type": "code",
   "execution_count": 21,
   "metadata": {},
   "outputs": [
    {
     "data": {
      "text/html": [
       "<div class=\"data-frame\"><p>5 rows × 4 columns</p><table class=\"data-frame\"><thead><tr><th></th><th>cities</th><th>provinces</th><th>population</th><th>rainfall</th></tr><tr><th></th><th title=\"String\">String</th><th title=\"String\">String</th><th title=\"Int64\">Int64</th><th title=\"Float64\">Float64</th></tr></thead><tbody><tr><th>1</th><td>Hangzhou</td><td>ZJ</td><td>2000</td><td>51.0</td></tr><tr><th>2</th><td>Ningbo</td><td>ZJ</td><td>1500</td><td>62.0</td></tr><tr><th>3</th><td>Wenzhou</td><td>ZJ</td><td>1000</td><td>65.0</td></tr><tr><th>4</th><td>Cixi</td><td>ZJ</td><td>200</td><td>62.5</td></tr><tr><th>5</th><td>Lishui</td><td>ZJ</td><td>500</td><td>50.0</td></tr></tbody></table></div>"
      ],
      "text/latex": [
       "\\begin{tabular}{r|cccc}\n",
       "\t& cities & provinces & population & rainfall\\\\\n",
       "\t\\hline\n",
       "\t& String & String & Int64 & Float64\\\\\n",
       "\t\\hline\n",
       "\t1 & Hangzhou & ZJ & 2000 & 51.0 \\\\\n",
       "\t2 & Ningbo & ZJ & 1500 & 62.0 \\\\\n",
       "\t3 & Wenzhou & ZJ & 1000 & 65.0 \\\\\n",
       "\t4 & Cixi & ZJ & 200 & 62.5 \\\\\n",
       "\t5 & Lishui & ZJ & 500 & 50.0 \\\\\n",
       "\\end{tabular}\n"
      ],
      "text/plain": [
       "\u001b[1m5×4 DataFrame\u001b[0m\n",
       "\u001b[1m Row \u001b[0m│\u001b[1m cities   \u001b[0m\u001b[1m provinces \u001b[0m\u001b[1m population \u001b[0m\u001b[1m rainfall \u001b[0m\n",
       "\u001b[1m     \u001b[0m│\u001b[90m String   \u001b[0m\u001b[90m String    \u001b[0m\u001b[90m Int64      \u001b[0m\u001b[90m Float64  \u001b[0m\n",
       "─────┼───────────────────────────────────────────\n",
       "   1 │ Hangzhou  ZJ               2000      51.0\n",
       "   2 │ Ningbo    ZJ               1500      62.0\n",
       "   3 │ Wenzhou   ZJ               1000      65.0\n",
       "   4 │ Cixi      ZJ                200      62.5\n",
       "   5 │ Lishui    ZJ                500      50.0"
      ]
     },
     "metadata": {},
     "output_type": "display_data"
    }
   ],
   "source": [
    "insertcols!(df_cities,2,:provinces => [\"ZJ\",\"ZJ\",\"ZJ\",\"ZJ\",\"ZJ\"])"
   ]
  },
  {
   "cell_type": "markdown",
   "metadata": {},
   "source": [
    "Check how many rows/columns in the DataFrame"
   ]
  },
  {
   "cell_type": "code",
   "execution_count": 15,
   "metadata": {},
   "outputs": [
    {
     "data": {
      "text/plain": [
       "(5, 3)"
      ]
     },
     "metadata": {},
     "output_type": "display_data"
    }
   ],
   "source": [
    "size(df_cities)"
   ]
  },
  {
   "cell_type": "markdown",
   "metadata": {},
   "source": [
    "Rename a column\n",
    "\n",
    "use : indicates that it is a Symbol."
   ]
  },
  {
   "cell_type": "code",
   "execution_count": 22,
   "metadata": {},
   "outputs": [
    {
     "data": {
      "text/html": [
       "<div class=\"data-frame\"><p>5 rows × 4 columns</p><table class=\"data-frame\"><thead><tr><th></th><th>cities</th><th>provinces</th><th>population</th><th>rain</th></tr><tr><th></th><th title=\"String\">String</th><th title=\"String\">String</th><th title=\"Int64\">Int64</th><th title=\"Float64\">Float64</th></tr></thead><tbody><tr><th>1</th><td>Hangzhou</td><td>ZJ</td><td>2000</td><td>51.0</td></tr><tr><th>2</th><td>Ningbo</td><td>ZJ</td><td>1500</td><td>62.0</td></tr><tr><th>3</th><td>Wenzhou</td><td>ZJ</td><td>1000</td><td>65.0</td></tr><tr><th>4</th><td>Cixi</td><td>ZJ</td><td>200</td><td>62.5</td></tr><tr><th>5</th><td>Lishui</td><td>ZJ</td><td>500</td><td>50.0</td></tr></tbody></table></div>"
      ],
      "text/latex": [
       "\\begin{tabular}{r|cccc}\n",
       "\t& cities & provinces & population & rain\\\\\n",
       "\t\\hline\n",
       "\t& String & String & Int64 & Float64\\\\\n",
       "\t\\hline\n",
       "\t1 & Hangzhou & ZJ & 2000 & 51.0 \\\\\n",
       "\t2 & Ningbo & ZJ & 1500 & 62.0 \\\\\n",
       "\t3 & Wenzhou & ZJ & 1000 & 65.0 \\\\\n",
       "\t4 & Cixi & ZJ & 200 & 62.5 \\\\\n",
       "\t5 & Lishui & ZJ & 500 & 50.0 \\\\\n",
       "\\end{tabular}\n"
      ],
      "text/plain": [
       "\u001b[1m5×4 DataFrame\u001b[0m\n",
       "\u001b[1m Row \u001b[0m│\u001b[1m cities   \u001b[0m\u001b[1m provinces \u001b[0m\u001b[1m population \u001b[0m\u001b[1m rain    \u001b[0m\n",
       "\u001b[1m     \u001b[0m│\u001b[90m String   \u001b[0m\u001b[90m String    \u001b[0m\u001b[90m Int64      \u001b[0m\u001b[90m Float64 \u001b[0m\n",
       "─────┼──────────────────────────────────────────\n",
       "   1 │ Hangzhou  ZJ               2000     51.0\n",
       "   2 │ Ningbo    ZJ               1500     62.0\n",
       "   3 │ Wenzhou   ZJ               1000     65.0\n",
       "   4 │ Cixi      ZJ                200     62.5\n",
       "   5 │ Lishui    ZJ                500     50.0"
      ]
     },
     "metadata": {},
     "output_type": "display_data"
    }
   ],
   "source": [
    "rename!(df_cities,:rainfall => :rain)"
   ]
  },
  {
   "cell_type": "markdown",
   "metadata": {},
   "source": [
    "How to delete a row"
   ]
  },
  {
   "cell_type": "code",
   "execution_count": 23,
   "metadata": {},
   "outputs": [
    {
     "data": {
      "text/html": [
       "<div class=\"data-frame\"><p>6 rows × 4 columns</p><table class=\"data-frame\"><thead><tr><th></th><th>cities</th><th>provinces</th><th>population</th><th>rain</th></tr><tr><th></th><th title=\"String\">String</th><th title=\"String\">String</th><th title=\"Int64\">Int64</th><th title=\"Float64\">Float64</th></tr></thead><tbody><tr><th>1</th><td>Hangzhou</td><td>ZJ</td><td>2000</td><td>51.0</td></tr><tr><th>2</th><td>Ningbo</td><td>ZJ</td><td>1500</td><td>62.0</td></tr><tr><th>3</th><td>Wenzhou</td><td>ZJ</td><td>1000</td><td>65.0</td></tr><tr><th>4</th><td>Cixi</td><td>ZJ</td><td>200</td><td>62.5</td></tr><tr><th>5</th><td>Lishui</td><td>ZJ</td><td>500</td><td>50.0</td></tr><tr><th>6</th><td>Leqing</td><td>ZJ</td><td>100</td><td>40.0</td></tr></tbody></table></div>"
      ],
      "text/latex": [
       "\\begin{tabular}{r|cccc}\n",
       "\t& cities & provinces & population & rain\\\\\n",
       "\t\\hline\n",
       "\t& String & String & Int64 & Float64\\\\\n",
       "\t\\hline\n",
       "\t1 & Hangzhou & ZJ & 2000 & 51.0 \\\\\n",
       "\t2 & Ningbo & ZJ & 1500 & 62.0 \\\\\n",
       "\t3 & Wenzhou & ZJ & 1000 & 65.0 \\\\\n",
       "\t4 & Cixi & ZJ & 200 & 62.5 \\\\\n",
       "\t5 & Lishui & ZJ & 500 & 50.0 \\\\\n",
       "\t6 & Leqing & ZJ & 100 & 40.0 \\\\\n",
       "\\end{tabular}\n"
      ],
      "text/plain": [
       "\u001b[1m6×4 DataFrame\u001b[0m\n",
       "\u001b[1m Row \u001b[0m│\u001b[1m cities   \u001b[0m\u001b[1m provinces \u001b[0m\u001b[1m population \u001b[0m\u001b[1m rain    \u001b[0m\n",
       "\u001b[1m     \u001b[0m│\u001b[90m String   \u001b[0m\u001b[90m String    \u001b[0m\u001b[90m Int64      \u001b[0m\u001b[90m Float64 \u001b[0m\n",
       "─────┼──────────────────────────────────────────\n",
       "   1 │ Hangzhou  ZJ               2000     51.0\n",
       "   2 │ Ningbo    ZJ               1500     62.0\n",
       "   3 │ Wenzhou   ZJ               1000     65.0\n",
       "   4 │ Cixi      ZJ                200     62.5\n",
       "   5 │ Lishui    ZJ                500     50.0\n",
       "   6 │ Leqing    ZJ                100     40.0"
      ]
     },
     "metadata": {},
     "output_type": "display_data"
    }
   ],
   "source": [
    "push!(df_cities,[\"Leqing\",\"ZJ\",100,40.0])"
   ]
  },
  {
   "cell_type": "code",
   "execution_count": null,
   "metadata": {},
   "outputs": [],
   "source": []
  }
 ],
 "metadata": {
  "kernelspec": {
   "display_name": "Julia 1.7.2",
   "language": "julia",
   "name": "julia-1.7"
  },
  "language_info": {
   "file_extension": ".jl",
   "mimetype": "application/julia",
   "name": "julia",
   "version": "1.7.2"
  },
  "orig_nbformat": 4
 },
 "nbformat": 4,
 "nbformat_minor": 2
}
